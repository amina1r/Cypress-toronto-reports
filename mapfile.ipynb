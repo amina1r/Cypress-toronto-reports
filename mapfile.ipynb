{
 "cells": [
  {
   "cell_type": "code",
   "execution_count": null,
   "metadata": {},
   "outputs": [],
   "source": [
    "m = folium.Map(\n",
    "    location=[43.7, -79.4],  # Coordinates Toronto\n",
    "    zoom_start=12,           # Initial zoom\n",
    "    min_zoom=12,             # Prevent zooming out\n",
    "    max_zoom=18,             # Prevent zooming in\n",
    "    control_scale=True       # Shows scale bar\n",
    ")\n",
    "\n",
    "# Restrict panning to a bounding box\n",
    "m.fit_bounds([[43.5, -79.6], [43.8, -79.2]])\n",
    "m.options['maxBounds'] = [[43.58, -79.65], [43.82, -79.15]]\n",
    "\n",
    "#folium.Marker (\n",
    "    #location = [43.6426, -79.3871],\n",
    "    #popup = \"CN Tower\",\n",
    "    #icon = folium.Icon(color = \"red\", icon = \"Tower\")\n",
    "#).add_to(m)\n",
    "\n",
    "#m\n",
    "\n",
    "m.fit_bounds([[43.5, -79.6], [43.8, -79.2]])\n",
    "m.options['maxBounds'] = [[43.58, -79.65], [43.82, -79.15]]            \n",
    "\n",
    "# m.add_child(folium.ClickForMarker(\n",
    "#     \"<b>New Point</b><br>Double-click to edit\",\n",
    "#     icon=folium.Icon(color='blue')\n",
    "#     ))\n",
    "\n",
    "folium.ClickForMarker(popup=\"<b>HEY!</b><br>Wanna add a report??\").add_to(m)\n",
    "\n",
    "toronto=[43.7, -79.4]\n",
    "folium.Marker(location=toronto, icon=folium.Icon(color='orange', icon_color='red', icon='sun-o', prefix='fa'), popup='Visited Feb 2020', tooltip='Toronto').add_to(m)\n",
    "\n",
    "\n",
    "js = \"\"\"\n",
    "    m.on('click', function(e) {\n",
    "        var lat = e.latlng.lat;\n",
    "        var lng = e.latlng.lng;\n",
    "        alert(\"You clicked at Latitude: \" + lat + \", Longitude: \" + lng);\n",
    "        console.log(\"Latitude: \" + lat + \", Longitude: \" + lng);  // Logs to the console\n",
    "        // Add a marker on the clicked position\n",
    "        var marker = L.marker([lat, lng]).addTo(m);\n",
    "        marker.bindPopup(\"Latitude: \" + lat + \"<br>Longitude: \" + lng).openPopup();\n",
    "    });\n",
    "\"\"\"\n",
    "\n",
    "m.get_root().html.add_child(folium.Element(f\"<script>{js}</script>\"))\n",
    "\n",
    "m.save('mapfile.html')\n",
    "m"
   ]
  },
  {
   "cell_type": "code",
   "execution_count": 22,
   "metadata": {},
   "outputs": [],
   "source": [
    "import geopandas as gpd\n",
    "import folium\n",
    "from folium import plugins\n",
    "import mapclassify\n",
    "from matplotlib import pyplot as plt"
   ]
  }
 ],
 "metadata": {
  "kernelspec": {
   "display_name": "Python 3",
   "language": "python",
   "name": "python3"
  },
  "language_info": {
   "codemirror_mode": {
    "name": "ipython",
    "version": 3
   },
   "file_extension": ".py",
   "mimetype": "text/x-python",
   "name": "python",
   "nbconvert_exporter": "python",
   "pygments_lexer": "ipython3",
   "version": "3.13.2"
  }
 },
 "nbformat": 4,
 "nbformat_minor": 2
}
