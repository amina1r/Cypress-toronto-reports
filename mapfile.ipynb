{
 "cells": [
  {
   "cell_type": "code",
<<<<<<< HEAD
   "execution_count": 9,
=======
<<<<<<< HEAD
   "execution_count": null,
=======
   "execution_count": 47,
>>>>>>> acc8bf81b3b99df2992ca2bd83a1381f61f13cc7
>>>>>>> 08bceafc9ba3fe498e36e313d7b2891ac187e8a0
   "metadata": {},
   "outputs": [],
   "source": [
    "import geopandas as gpd\n",
    "import folium\n",
    "from folium import plugins\n",
    "import mapclassify\n",
    "from matplotlib import pyplot as plt"
   ]
  },
  {
   "cell_type": "code",
<<<<<<< HEAD
   "execution_count": 10,
=======
<<<<<<< HEAD
   "execution_count": null,
=======
   "execution_count": 48,
>>>>>>> acc8bf81b3b99df2992ca2bd83a1381f61f13cc7
>>>>>>> 08bceafc9ba3fe498e36e313d7b2891ac187e8a0
   "metadata": {},
   "outputs": [],
   "source": [
    "m = folium.Map(\n",
    "    location=[43.7, -79.4],  # Coordinates Toronto\n",
    "    zoom_start=12,           # Initial zoom\n",
    "    min_zoom=12,             # Prevent zooming out\n",
    "    max_zoom=18,             # Prevent zooming in\n",
    "    control_scale=True       # Shows scale bar\n",
    ")\n",
    "\n",
    "# Restrict panning to a bounding box\n",
    "m.fit_bounds([[43.5, -79.6], [43.8, -79.2]])\n",
    "m.options['maxBounds'] = [[43.58, -79.65], [43.82, -79.15]]\n",
    "\n",
    "#folium.Marker (\n",
    "    #location = [43.6426, -79.3871],\n",
    "    #popup = \"CN Tower\",\n",
    "    #icon = folium.Icon(color = \"red\", icon = \"Tower\")\n",
    "#).add_to(m)\n",
    "\n",
    "#m\n",
    "\n",
    "m.fit_bounds([[43.5, -79.6], [43.8, -79.2]])\n",
    "m.options['maxBounds'] = [[43.58, -79.65], [43.82, -79.15]]            \n",
    "\n",
    "# m.add_child(folium.ClickForMarker(\n",
    "#     \"<b>New Point</b><br>Double-click to edit\",\n",
    "#     icon=folium.Icon(color='blue')\n",
    "#     ))\n",
    "\n",
    "folium.ClickForMarker(popup=\"<b>HEY!</b><br>Wanna add a report??\").add_to(m)\n",
    "\n",
    "toronto=[43.7, -79.4]\n",
    "folium.Marker(location=toronto, icon=folium.Icon(color='orange', icon_color='red', icon='sun-o', prefix='fa'), popup='Visited Feb 2020', tooltip='Toronto').add_to(m)\n",
    "\n",
    "\n",
    "js = \"\"\"\n",
<<<<<<< HEAD
    "map.on('click', function(e) {\n",
    "    var lat = e.latlng.lat;\n",
    "    var lng = e.latlng.lng;\n",
    "    alert(\"You clicked at Latitude: \" + lat + \", Longitude: \" + lng);\n",
    "    // Add a marker on the clicked position\n",
    "    var marker = L.marker([lat, lng]).addTo(map);\n",
    "    marker.bindPopup(\"Latitude: \" + lat + \"<br>Longitude: \" + lng).openPopup();\n",
    "\n",
    "    // Retrieve the existing coordinates from localStorage\n",
    "    var coordinates = JSON.parse(localStorage.getItem(\"coordinates\")) || [];\n",
    "\n",
    "    // Add the new coordinates\n",
    "    coordinates.push({lat: lat, lng: lng});\n",
    "\n",
    "    // Save the updated coordinates back to localStorage\n",
    "    localStorage.setItem(\"coordinates\", JSON.stringify(coordinates));\n",
    "});\n",
=======
    "    window.onload = function() {\n",
    "        var map =  L.map('{m.get_name()}'); // Initialize the map\n",
    "\n",
    "        // Set the tile layer for the map (using OpenStreetMap as the tile source)\n",
    "        L.tileLayer('https://{s}.tile.openstreetmap.org/{z}/{x}/{y}.png').addTo(map);\n",
    "\n",
    "        map.on('click', function(e) {\n",
    "            var lat = e.latlng.lat;\n",
    "            var lng = e.latlng.lng;\n",
    "            alert(\"You clicked at Latitude: \" + lat + \", Longitude: \" + lng);\n",
    "            console.log(\"Latitude: \" + lat + \", Longitude: \" + lng);  // Logs to the console\n",
    "            // Add a marker on the clicked position\n",
    "            var marker = L.marker([lat, lng]).addTo(map);\n",
    "            marker.bindPopup(\"Latitude: \" + lat + \"<br>Longitude: \" + lng).openPopup();\n",
    "        });\n",
    "    };\n",
>>>>>>> acc8bf81b3b99df2992ca2bd83a1381f61f13cc7
    "\"\"\"\n",
    "\n",
    "m.get_root().html.add_child(folium.Element(f\"<script>{js}</script>\"))\n",
    "\n",
    "m.save('mapfile.html')\n",
    "m"
   ]
  }
 ],
 "metadata": {
  "kernelspec": {
   "display_name": "Python 3",
   "language": "python",
   "name": "python3"
  },
  "language_info": {
   "codemirror_mode": {
    "name": "ipython",
    "version": 3
   },
   "file_extension": ".py",
   "mimetype": "text/x-python",
   "name": "python",
   "nbconvert_exporter": "python",
   "pygments_lexer": "ipython3",
   "version": "3.13.2"
  }
 },
 "nbformat": 4,
 "nbformat_minor": 2
}
